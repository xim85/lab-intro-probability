{
 "cells": [
  {
   "cell_type": "markdown",
   "metadata": {},
   "source": [
    "# Lab | Intro to Probability"
   ]
  },
  {
   "cell_type": "markdown",
   "metadata": {},
   "source": [
    "**Objective**\n",
    "\n",
    "Welcome to this Intro to Probability lab, where we explore decision-making scenarios through the lens of probability and strategic analysis. In the business world, making informed decisions is crucial, especially when faced with uncertainties. This lab focuses on scenarios where probabilistic outcomes play a significant role in shaping strategies and outcomes. Students will engage in exercises that require assessing and choosing optimal paths based on data-driven insights. The goal is to enhance your skills by applying probability concepts to solve real-world problems."
   ]
  },
  {
   "cell_type": "markdown",
   "metadata": {},
   "source": [
    "**Challenge 1**"
   ]
  },
  {
   "cell_type": "markdown",
   "metadata": {},
   "source": [
    "#### Ironhack Airlines \n",
    "\n",
    "Often Airlines sell more tickets than they have seats available, this is called overbooking. Consider the following:\n",
    "- A plane has 450 seats. \n",
    "- Based on historical data we conclude that each individual passenger has a 3% chance of missing it's flight. \n",
    "\n",
    "If the Ironhack Airlines routinely sells 460 tickets, what is the chance that they have a seats for all passenger?"
   ]
  },
  {
   "cell_type": "code",
   "execution_count": 30,
   "metadata": {},
   "outputs": [
    {
     "name": "stdout",
     "output_type": "stream",
     "text": [
      "The probability that Ironhack Airlines has seats for all passengers is 0.8845\n"
     ]
    }
   ],
   "source": [
    "#code here\n",
    "from scipy.stats import binom\n",
    "\n",
    "n = 460  \n",
    "p = 0.03  \n",
    "seats_available = 450\n",
    "\n",
    "\n",
    "p_showing_up = 1 - p\n",
    "\n",
    "# Create binomial distribution\n",
    "binom_dist = binom(n, p_showing_up)\n",
    "\n",
    "\n",
    "probability = binom_dist.cdf(seats_available)\n",
    "\n",
    "print(f\"The probability that Ironhack Airlines has seats for all passengers is {probability:.4f}\")\n",
    "\n",
    "\n"
   ]
  },
  {
   "cell_type": "markdown",
   "metadata": {},
   "source": [
    "**Challenge 2**"
   ]
  },
  {
   "cell_type": "markdown",
   "metadata": {},
   "source": [
    "#### Ironhack Call Center "
   ]
  },
  {
   "cell_type": "markdown",
   "metadata": {},
   "source": [
    "Suppose a customer service representative at a call center is handling customer complaints. Consider the following:\n",
    "- The probability of successfully resolving a customer complaint on the first attempt is 0.3. \n",
    "\n",
    "\n",
    "What is the probability that the representative needs to make at least three attempts before successfully resolving a customer complaint?"
   ]
  },
  {
   "cell_type": "code",
   "execution_count": 31,
   "metadata": {},
   "outputs": [
    {
     "name": "stdout",
     "output_type": "stream",
     "text": [
      "The probability that the representative needs to make at least three attempts before successfully resolving a customer complaint is 0.14699999999999996\n"
     ]
    }
   ],
   "source": [
    "#code here\n",
    "from scipy.stats import geom\n",
    "\n",
    "p = 0.30\n",
    "geom_dist = geom(p)\n",
    "\n",
    "print(f\"The probability that the representative needs to make at least three attempts before successfully resolving a customer complaint is {geom_dist.pmf(3)}\")"
   ]
  },
  {
   "cell_type": "markdown",
   "metadata": {},
   "source": [
    "**Challenge 3**"
   ]
  },
  {
   "cell_type": "markdown",
   "metadata": {},
   "source": [
    "#### Ironhack Website"
   ]
  },
  {
   "cell_type": "markdown",
   "metadata": {},
   "source": [
    "Consider a scenario related to Ironhack website traffic. Where:\n",
    "- our website takes on average 500 visits per hour.\n",
    "- the website's server is designed to handle up to 550 vists per hour.\n",
    "\n",
    "\n",
    "What is the probability of the website server being overwhelmed?"
   ]
  },
  {
   "cell_type": "code",
   "execution_count": 15,
   "metadata": {},
   "outputs": [
    {
     "name": "stdout",
     "output_type": "stream",
     "text": [
      "The probability of the website server being overwhelmed is 0.01289822084039205\n"
     ]
    }
   ],
   "source": [
    "#code here\n",
    "from scipy.stats import poisson\n",
    "\n",
    "mu = 500\n",
    "poisson_dist = poisson(mu)\n",
    "\n",
    "probability_overwhelmed = 1 - poisson_dist.cdf(550)\n",
    "\n",
    "print(f\"The probability of the website server being overwhelmed is {probability_overwhelmed}\")\n"
   ]
  },
  {
   "cell_type": "markdown",
   "metadata": {},
   "source": [
    "What is the probability of being overwhelmed at some point during a day? (consider 24hours)"
   ]
  },
  {
   "cell_type": "code",
   "execution_count": 14,
   "metadata": {},
   "outputs": [
    {
     "name": "stdout",
     "output_type": "stream",
     "text": [
      "The probability of the server being overwhelmed at least once during a 24-hour period is 0.2677\n"
     ]
    }
   ],
   "source": [
    "probability_overwhelmed_per_hour = probability_overwhelmed\n",
    "\n",
    "# Calculate the probability of not being overwhelmed in one hour\n",
    "probability_not_overwhelmed_per_hour = 1 - probability_overwhelmed_per_hour\n",
    "\n",
    "# Calculate the probability of not being overwhelmed in 24 hours\n",
    "probability_not_overwhelmed_24_hours = probability_not_overwhelmed_per_hour ** 24\n",
    "\n",
    "# Calculate the probability of being overwhelmed at least once in 24 hours\n",
    "probability_overwhelmed_24_hours = 1 - probability_not_overwhelmed_24_hours\n",
    "\n",
    "print(f\"The probability of the server being overwhelmed at least once during a 24-hour period is {probability_overwhelmed_24_hours:.4f}\")"
   ]
  },
  {
   "cell_type": "markdown",
   "metadata": {},
   "source": [
    "**Challenge 4**"
   ]
  },
  {
   "cell_type": "markdown",
   "metadata": {},
   "source": [
    "#### Ironhack Helpdesk"
   ]
  },
  {
   "cell_type": "markdown",
   "metadata": {},
   "source": [
    "Consider a scenario related to the time between arrivals of customers at a service desk.\n",
    "\n",
    "On average, a customers arrives every 10minutes.\n",
    "\n",
    "What is the probability that the next customer will arrive within the next 5 minutes?"
   ]
  },
  {
   "cell_type": "code",
   "execution_count": 19,
   "metadata": {},
   "outputs": [
    {
     "name": "stdout",
     "output_type": "stream",
     "text": [
      "The probability that the next customer will arrive within the next 5 minutes is 0.3935\n"
     ]
    }
   ],
   "source": [
    "# code here\n",
    "from scipy.stats import expon\n",
    "\n",
    "#the parameter represents the rate of events occuring per unit of time\n",
    "lambda_value = 0.1\n",
    "\n",
    "lambda_inv = expon(scale = 1/lambda_value)\n",
    "\n",
    "lambda_inv.cdf(5)\n",
    "print(f\"The probability that the next customer will arrive within the next 5 minutes is {lambda_inv.cdf(5):.4f}\")"
   ]
  },
  {
   "cell_type": "markdown",
   "metadata": {},
   "source": [
    "If there is no customer for 15minutes, employees can that a 5minutes break.\n",
    "\n",
    "What is the probability an employee taking a break?"
   ]
  },
  {
   "cell_type": "code",
   "execution_count": 22,
   "metadata": {},
   "outputs": [
    {
     "name": "stdout",
     "output_type": "stream",
     "text": [
      "The probability that an employee can take a 5-minute break after no customer arrivals for 15 minutes is 0.2231\n"
     ]
    }
   ],
   "source": [
    "exp_dist = expon(scale=1/lambda_value)\n",
    "\n",
    "# Calculate the probability of having no arrivals in a 15-minute interval\n",
    "prob_no_arrivals_15_min = 1 - exp_dist.cdf(15) \n",
    "\n",
    "# Probability of a 5-minute break within that 15-minute interval\n",
    "# Here we assume if there are no arrivals in 15 minutes, the probability of a 5-minute break within that interval is 1\n",
    "probability_break = prob_no_arrivals_15_min\n",
    "\n",
    "print(f\"The probability that an employee can take a 5-minute break after no customer arrivals for 15 minutes is {probability_break:.4f}\")\n"
   ]
  },
  {
   "cell_type": "markdown",
   "metadata": {},
   "source": [
    "**Challenge 5**"
   ]
  },
  {
   "cell_type": "markdown",
   "metadata": {},
   "source": [
    "The weights of a certain species of birds follow a normal distribution with a mean weight of 150 grams and a standard deviation of 10 grams. \n",
    "\n",
    "- If we randomly select a bird, what is the probability that its weight is between 140 and 160 grams?"
   ]
  },
  {
   "cell_type": "code",
   "execution_count": 26,
   "metadata": {},
   "outputs": [
    {
     "name": "stdout",
     "output_type": "stream",
     "text": [
      "The probability that its weight is between 140 and 160 grams is 0.6826894921370859\n"
     ]
    }
   ],
   "source": [
    "#code here\n",
    "from scipy.stats import norm\n",
    "\n",
    "mean = 150\n",
    "std = 10\n",
    "\n",
    "norm_dist = norm(loc = mean, scale = std)\n",
    "print(f\"The probability that its weight is between 140 and 160 grams is {norm_dist.cdf(160) - norm_dist.cdf(140)}\")"
   ]
  },
  {
   "cell_type": "markdown",
   "metadata": {},
   "source": [
    "**Challenge 6**"
   ]
  },
  {
   "cell_type": "markdown",
   "metadata": {},
   "source": [
    "If the lifetime (in hours) of a certain electronic component follows an exponential distribution with a mean lifetime of 50 hours, what is the probability that the component fails within the first 30 hours?"
   ]
  },
  {
   "cell_type": "code",
   "execution_count": 28,
   "metadata": {},
   "outputs": [
    {
     "name": "stdout",
     "output_type": "stream",
     "text": [
      "The probability that the component fails within the first 30 hours is 0.4512\n"
     ]
    }
   ],
   "source": [
    "#code here\n",
    "\n",
    "mean = 50\n",
    "lambda_value = 1 / mean\n",
    "time_period = 30  \n",
    "\n",
    "# Create the exponential distribution object\n",
    "exp_dist = expon(scale=1/lambda_value)\n",
    "\n",
    "# Calculate the probability of failing within the first 30 hours\n",
    "prob_failure_within_30_hours = exp_dist.cdf(time_period)\n",
    "\n",
    "print(f\"The probability that the component fails within the first 30 hours is {prob_failure_within_30_hours:.4f}\")\n"
   ]
  }
 ],
 "metadata": {
  "kernelspec": {
   "display_name": "Python 3",
   "language": "python",
   "name": "python3"
  },
  "language_info": {
   "codemirror_mode": {
    "name": "ipython",
    "version": 3
   },
   "file_extension": ".py",
   "mimetype": "text/x-python",
   "name": "python",
   "nbconvert_exporter": "python",
   "pygments_lexer": "ipython3",
   "version": "3.9.6"
  }
 },
 "nbformat": 4,
 "nbformat_minor": 2
}
